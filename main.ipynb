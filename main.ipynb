{
 "cells": [
  {
   "cell_type": "code",
   "execution_count": 1,
   "metadata": {},
   "outputs": [],
   "source": [
    "import os\n",
    "import pandas as pd\n",
    "import numpy as np\n",
    "from PIL import Image\n",
    "from sklearn.model_selection import train_test_split\n",
    "from skimage.transform import resize\n",
    "from tensorflow.keras.models import Model\n",
    "from tensorflow.keras.layers import Conv2D, MaxPooling2D, Input, Dense, Flatten \n",
    "from sklearn import metrics\n",
    "from keras.callbacks import EarlyStopping"
   ]
  },
  {
   "cell_type": "code",
   "execution_count": 2,
   "metadata": {},
   "outputs": [],
   "source": [
    "curr_dir = os.getcwd()\n",
    "data_folder_path = os.path.join(curr_dir, 'dataset')\n",
    "dataset_path = os.path.join(data_folder_path, 'Brain Tumor Data Set')\n",
    "\n",
    "healthy_brain_images_path = os.path.join(dataset_path, 'Healthy')\n",
    "brain_tumor_images_path = os.path.join(dataset_path, 'Brain Tumor')\n",
    "\n",
    "training_metadata_file_path = os.path.join(data_folder_path, 'metadata.csv')"
   ]
  },
  {
   "cell_type": "code",
   "execution_count": 3,
   "metadata": {},
   "outputs": [
    {
     "data": {
      "text/html": [
       "<div>\n",
       "<style scoped>\n",
       "    .dataframe tbody tr th:only-of-type {\n",
       "        vertical-align: middle;\n",
       "    }\n",
       "\n",
       "    .dataframe tbody tr th {\n",
       "        vertical-align: top;\n",
       "    }\n",
       "\n",
       "    .dataframe thead th {\n",
       "        text-align: right;\n",
       "    }\n",
       "</style>\n",
       "<table border=\"1\" class=\"dataframe\">\n",
       "  <thead>\n",
       "    <tr style=\"text-align: right;\">\n",
       "      <th></th>\n",
       "      <th>Unnamed: 0</th>\n",
       "      <th>image</th>\n",
       "      <th>class</th>\n",
       "      <th>format</th>\n",
       "      <th>mode</th>\n",
       "      <th>shape</th>\n",
       "    </tr>\n",
       "  </thead>\n",
       "  <tbody>\n",
       "    <tr>\n",
       "      <th>0</th>\n",
       "      <td>0</td>\n",
       "      <td>Cancer (1).jpg</td>\n",
       "      <td>tumor</td>\n",
       "      <td>JPEG</td>\n",
       "      <td>RGB</td>\n",
       "      <td>(512, 512, 3)</td>\n",
       "    </tr>\n",
       "    <tr>\n",
       "      <th>3</th>\n",
       "      <td>3</td>\n",
       "      <td>Cancer (10).jpg</td>\n",
       "      <td>tumor</td>\n",
       "      <td>JPEG</td>\n",
       "      <td>RGB</td>\n",
       "      <td>(512, 512, 3)</td>\n",
       "    </tr>\n",
       "    <tr>\n",
       "      <th>5</th>\n",
       "      <td>5</td>\n",
       "      <td>Cancer (100).jpg</td>\n",
       "      <td>tumor</td>\n",
       "      <td>JPEG</td>\n",
       "      <td>RGB</td>\n",
       "      <td>(512, 512, 3)</td>\n",
       "    </tr>\n",
       "    <tr>\n",
       "      <th>6</th>\n",
       "      <td>6</td>\n",
       "      <td>Cancer (1000).jpg</td>\n",
       "      <td>tumor</td>\n",
       "      <td>JPEG</td>\n",
       "      <td>RGB</td>\n",
       "      <td>(290, 250, 3)</td>\n",
       "    </tr>\n",
       "    <tr>\n",
       "      <th>7</th>\n",
       "      <td>7</td>\n",
       "      <td>Cancer (1001).jpg</td>\n",
       "      <td>tumor</td>\n",
       "      <td>JPEG</td>\n",
       "      <td>RGB</td>\n",
       "      <td>(620, 620, 3)</td>\n",
       "    </tr>\n",
       "  </tbody>\n",
       "</table>\n",
       "</div>"
      ],
      "text/plain": [
       "   Unnamed: 0              image  class format mode          shape\n",
       "0           0     Cancer (1).jpg  tumor   JPEG  RGB  (512, 512, 3)\n",
       "3           3    Cancer (10).jpg  tumor   JPEG  RGB  (512, 512, 3)\n",
       "5           5   Cancer (100).jpg  tumor   JPEG  RGB  (512, 512, 3)\n",
       "6           6  Cancer (1000).jpg  tumor   JPEG  RGB  (290, 250, 3)\n",
       "7           7  Cancer (1001).jpg  tumor   JPEG  RGB  (620, 620, 3)"
      ]
     },
     "execution_count": 3,
     "metadata": {},
     "output_type": "execute_result"
    }
   ],
   "source": [
    "training_metdata_df = pd.read_csv(training_metadata_file_path)\n",
    "training_metdata_df = training_metdata_df[training_metdata_df[\"image\"].str.contains(\"jpg\")]\n",
    "training_metdata_df.head(5)"
   ]
  },
  {
   "cell_type": "code",
   "execution_count": 4,
   "metadata": {},
   "outputs": [
    {
     "name": "stdout",
     "output_type": "stream",
     "text": [
      "4432\n"
     ]
    }
   ],
   "source": [
    "print(len(training_metdata_df))"
   ]
  },
  {
   "cell_type": "code",
   "execution_count": 5,
   "metadata": {},
   "outputs": [],
   "source": [
    "new_training_metadata_df = training_metdata_df"
   ]
  },
  {
   "cell_type": "code",
   "execution_count": 6,
   "metadata": {},
   "outputs": [],
   "source": [
    "# # For faster training reduce dataset size\n",
    "# import random\n",
    "\n",
    "# new_training_metadata_df = pd.DataFrame()\n",
    "\n",
    "# non_healthy_data = training_metdata_df[training_metdata_df[\"class\"] == \"tumor\"]\n",
    "# healthy_data = training_metdata_df[training_metdata_df[\"class\"] == \"normal\"]\n",
    "# print(len(healthy_data), len(non_healthy_data), len(non_healthy_data) + len(healthy_data))\n",
    "\n",
    "# random_non_healthy_data = random.sample(list(non_healthy_data[\"image\"].values), 1000)\n",
    "# random_healthy_data = random.sample(list(non_healthy_data[\"image\"].values), 1200)\n",
    "\n",
    "# def get_row_from_image_id(image_id):\n",
    "#     return training_metdata_df[training_metdata_df[\"image\"] == image_id]\n",
    "\n",
    "# for image_id in random_non_healthy_data:\n",
    "#     row = get_row_from_image_id(image_id)\n",
    "#     new_training_metadata_df = new_training_metadata_df.append(row, ignore_index=True)\n",
    "\n",
    "# for image_id in random_healthy_data:\n",
    "#     row = get_row_from_image_id(image_id)\n",
    "#     new_training_metadata_df = new_training_metadata_df.append(row, ignore_index=True)"
   ]
  },
  {
   "cell_type": "code",
   "execution_count": 7,
   "metadata": {},
   "outputs": [],
   "source": [
    "TEST_SIZE = 0.2\n",
    "RANDOM_STATE = 42\n",
    "EPOCHS = 3 \n",
    "INPUT_SHAPE = (256, 256, 3)"
   ]
  },
  {
   "cell_type": "code",
   "execution_count": 8,
   "metadata": {},
   "outputs": [],
   "source": [
    "train_ids, test_ids = train_test_split(new_training_metadata_df[\"image\"], test_size = TEST_SIZE, random_state = RANDOM_STATE)"
   ]
  },
  {
   "cell_type": "code",
   "execution_count": 9,
   "metadata": {},
   "outputs": [
    {
     "data": {
      "text/plain": [
       "(3545, 887)"
      ]
     },
     "execution_count": 9,
     "metadata": {},
     "output_type": "execute_result"
    }
   ],
   "source": [
    "len(train_ids), len(test_ids)"
   ]
  },
  {
   "cell_type": "code",
   "execution_count": 10,
   "metadata": {},
   "outputs": [],
   "source": [
    "def open_image_and_convert_to_numpy_array(path):\n",
    "    return np.array(Image.open(path))\n",
    "\n",
    "def resize_image(image):\n",
    "    return resize(image, (256, 256, 3), preserve_range=True, anti_aliasing=True)\n",
    "\n",
    "def load_image_and_mask(image_path):\n",
    "    return open_image_and_convert_to_numpy_array(image_path)\n",
    "\n",
    "def load_images(image_ids):\n",
    "    X_classification = []\n",
    "    y_classification = []\n",
    "\n",
    "    for image_id in image_ids:\n",
    "        if \"Not Cancer\" in image_id:\n",
    "            image_path = healthy_brain_images_path + \"/\" + image_id\n",
    "        else:\n",
    "            image_path = brain_tumor_images_path + \"/\" + image_id\n",
    "\n",
    "        image = load_image_and_mask(image_path)\n",
    "\n",
    "        image_resized = resize_image(image) / 255\n",
    "        \n",
    "        classification_label = new_training_metadata_df[new_training_metadata_df['image'] == image_id]['class'].values[0]\n",
    "        if classification_label == \"tumor\":\n",
    "            classification_label = 1\n",
    "        else:\n",
    "            classification_label = 0\n",
    "\n",
    "        X_classification.append(image_resized)\n",
    "        y_classification.append(classification_label) \n",
    "\n",
    "    return np.array(X_classification), np.array(y_classification)\n",
    "        "
   ]
  },
  {
   "cell_type": "code",
   "execution_count": 11,
   "metadata": {},
   "outputs": [],
   "source": [
    "X_train, y_train = load_images(train_ids)"
   ]
  },
  {
   "cell_type": "code",
   "execution_count": 12,
   "metadata": {},
   "outputs": [],
   "source": [
    "X_test, y_test = load_images(test_ids)"
   ]
  },
  {
   "cell_type": "code",
   "execution_count": 13,
   "metadata": {},
   "outputs": [
    {
     "name": "stdout",
     "output_type": "stream",
     "text": [
      "Shape of X_train: (3545, 256, 256, 3)\n",
      "Shape of y_train: (3545,)\n"
     ]
    }
   ],
   "source": [
    "print(\"Shape of X_train:\", X_train.shape)\n",
    "print(\"Shape of y_train:\", y_train.shape)"
   ]
  },
  {
   "cell_type": "code",
   "execution_count": 14,
   "metadata": {},
   "outputs": [
    {
     "name": "stdout",
     "output_type": "stream",
     "text": [
      "Shape of X_val: (887, 256, 256, 3)\n",
      "Shape of y_val: (887,)\n"
     ]
    }
   ],
   "source": [
    "print(\"Shape of X_val:\", X_test.shape)\n",
    "print(\"Shape of y_val:\", y_test.shape)"
   ]
  },
  {
   "cell_type": "code",
   "execution_count": 15,
   "metadata": {},
   "outputs": [],
   "source": [
    "early_stopping_callback = EarlyStopping(monitor='accuracy', patience=2, restore_best_weights=True)"
   ]
  },
  {
   "cell_type": "code",
   "execution_count": 16,
   "metadata": {},
   "outputs": [
    {
     "name": "stdout",
     "output_type": "stream",
     "text": [
      "Model: \"model\"\n",
      "_________________________________________________________________\n",
      " Layer (type)                Output Shape              Param #   \n",
      "=================================================================\n",
      " input_1 (InputLayer)        [(None, 256, 256, 3)]     0         \n",
      "                                                                 \n",
      " conv2d (Conv2D)             (None, 256, 256, 32)      896       \n",
      "                                                                 \n",
      " max_pooling2d (MaxPooling2  (None, 128, 128, 32)      0         \n",
      " D)                                                              \n",
      "                                                                 \n",
      " flatten (Flatten)           (None, 524288)            0         \n",
      "                                                                 \n",
      " dense (Dense)               (None, 64)                33554496  \n",
      "                                                                 \n",
      " dense_1 (Dense)             (None, 1)                 65        \n",
      "                                                                 \n",
      "=================================================================\n",
      "Total params: 33555457 (128.00 MB)\n",
      "Trainable params: 33555457 (128.00 MB)\n",
      "Non-trainable params: 0 (0.00 Byte)\n",
      "_________________________________________________________________\n"
     ]
    }
   ],
   "source": [
    "def create_classification_model(input_shape):\n",
    "    inputs = Input(shape=input_shape)\n",
    "    conv1 = Conv2D(32, (3, 3), activation='relu', padding='same')(inputs)\n",
    "    pool1 = MaxPooling2D(pool_size=(2, 2))(conv1)\n",
    "    flatten = Flatten()(pool1)\n",
    "    dense1 = Dense(64, activation='relu')(flatten)\n",
    "    outputs = Dense(1, activation='sigmoid')(dense1)\n",
    "    \n",
    "    model = Model(inputs=inputs, outputs=outputs)\n",
    "    return model\n",
    "\n",
    "classification_model = create_classification_model(INPUT_SHAPE)\n",
    "classification_model.summary()"
   ]
  },
  {
   "cell_type": "code",
   "execution_count": 17,
   "metadata": {},
   "outputs": [],
   "source": [
    "classification_model.compile(optimizer='adam', loss='binary_crossentropy', metrics=['accuracy'])"
   ]
  },
  {
   "cell_type": "code",
   "execution_count": 18,
   "metadata": {},
   "outputs": [
    {
     "name": "stdout",
     "output_type": "stream",
     "text": [
      "Epoch 1/3\n",
      "111/111 [==============================] - 115s 1s/step - loss: 2.2868 - accuracy: 0.5918\n",
      "Epoch 2/3\n",
      "111/111 [==============================] - 116s 1s/step - loss: 0.5469 - accuracy: 0.7614\n",
      "Epoch 3/3\n",
      "111/111 [==============================] - 116s 1s/step - loss: 0.4804 - accuracy: 0.8288\n"
     ]
    },
    {
     "data": {
      "text/plain": [
       "<keras.src.callbacks.History at 0x7fcac2d5afa0>"
      ]
     },
     "execution_count": 18,
     "metadata": {},
     "output_type": "execute_result"
    }
   ],
   "source": [
    "classification_model.fit(X_train, y_train, epochs=EPOCHS, callbacks=[early_stopping_callback])"
   ]
  },
  {
   "cell_type": "code",
   "execution_count": 19,
   "metadata": {},
   "outputs": [
    {
     "name": "stdout",
     "output_type": "stream",
     "text": [
      "28/28 [==============================] - 5s 182ms/step\n"
     ]
    }
   ],
   "source": [
    "y_pred = classification_model.predict(X_test)"
   ]
  },
  {
   "cell_type": "code",
   "execution_count": 20,
   "metadata": {},
   "outputs": [],
   "source": [
    "y_pred_class = (y_pred > 0.5).astype(int)\n",
    "# y_pred_class"
   ]
  },
  {
   "cell_type": "code",
   "execution_count": 21,
   "metadata": {},
   "outputs": [
    {
     "name": "stdout",
     "output_type": "stream",
     "text": [
      "Accuracy: 0.8410372040586246\n",
      "Precision: 0.7963875205254516\n",
      "Recall: 0.9661354581673307\n",
      "F1 Score: 0.8730873087308731\n",
      "AUC Score: 0.8220287680447044\n"
     ]
    }
   ],
   "source": [
    "accuracy = metrics.accuracy_score(y_test, y_pred_class)\n",
    "precision = metrics.precision_score(y_test, y_pred_class)\n",
    "recall = metrics.recall_score(y_test, y_pred_class)\n",
    "f1_score = metrics.f1_score(y_test, y_pred_class)\n",
    "auc_score = metrics.roc_auc_score(y_test, y_pred_class)\n",
    "\n",
    "print(f\"Accuracy: {accuracy}\")\n",
    "print(f\"Precision: {precision}\")\n",
    "print(f\"Recall: {recall}\")\n",
    "print(f\"F1 Score: {f1_score}\")\n",
    "print(f\"AUC Score: {auc_score}\")"
   ]
  },
  {
   "cell_type": "code",
   "execution_count": 22,
   "metadata": {},
   "outputs": [
    {
     "name": "stdout",
     "output_type": "stream",
     "text": [
      "[[261 124]\n",
      " [ 17 485]]\n"
     ]
    }
   ],
   "source": [
    "confusion_matrix = metrics.confusion_matrix(y_test, y_pred_class)\n",
    "print(confusion_matrix)"
   ]
  },
  {
   "cell_type": "code",
   "execution_count": null,
   "metadata": {},
   "outputs": [],
   "source": []
  }
 ],
 "metadata": {
  "kernelspec": {
   "display_name": "base",
   "language": "python",
   "name": "python3"
  },
  "language_info": {
   "codemirror_mode": {
    "name": "ipython",
    "version": 3
   },
   "file_extension": ".py",
   "mimetype": "text/x-python",
   "name": "python",
   "nbconvert_exporter": "python",
   "pygments_lexer": "ipython3",
   "version": "3.8.8"
  }
 },
 "nbformat": 4,
 "nbformat_minor": 2
}
